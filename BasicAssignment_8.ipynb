{
 "cells": [
  {
   "cell_type": "markdown",
   "id": "0ebe1730",
   "metadata": {},
   "source": [
    "### 1. Is the Python Standard Library included with PyInputPlus?"
   ]
  },
  {
   "cell_type": "markdown",
   "id": "8e165aa9",
   "metadata": {},
   "source": [
    "it is not a part of python standard library"
   ]
  },
  {
   "cell_type": "markdown",
   "id": "3eedc6f0",
   "metadata": {},
   "source": [
    "### 2. Why is PyInputPlus commonly imported with import pyinputplus as pypi?\n"
   ]
  },
  {
   "cell_type": "markdown",
   "id": "58b42d2b",
   "metadata": {},
   "source": [
    "this piece of code help us save time from calling each time we want to use pyinputplus where pypi is allias"
   ]
  },
  {
   "cell_type": "markdown",
   "id": "2989e8ed",
   "metadata": {},
   "source": [
    "### 3. How do you distinguish between inputInt() and inputFloat()?\n"
   ]
  },
  {
   "cell_type": "markdown",
   "id": "e7e37bd5",
   "metadata": {},
   "source": [
    "    inputInt() is for integers i.e number without decimal\n",
    "    where as inputFloat() belongs to float class i.e with decimal."
   ]
  },
  {
   "cell_type": "code",
   "execution_count": 1,
   "id": "5381edea",
   "metadata": {},
   "outputs": [
    {
     "name": "stdout",
     "output_type": "stream",
     "text": [
      "Collecting pyinputplus\n",
      "  Using cached PyInputPlus-0.2.12.tar.gz (20 kB)\n",
      "  Installing build dependencies: started\n",
      "  Installing build dependencies: finished with status 'done'\n",
      "  Getting requirements to build wheel: started\n",
      "  Getting requirements to build wheel: finished with status 'done'\n",
      "    Preparing wheel metadata: started\n",
      "Note: you may need to restart the kernel to use updated packages.    Preparing wheel metadata: finished with status 'done'\n",
      "\n",
      "Collecting stdiomask>=0.0.3\n",
      "  Using cached stdiomask-0.0.6.tar.gz (3.6 kB)\n",
      "  Installing build dependencies: started\n",
      "  Installing build dependencies: finished with status 'done'\n",
      "  Getting requirements to build wheel: started\n",
      "  Getting requirements to build wheel: finished with status 'done'\n",
      "    Preparing wheel metadata: started\n",
      "    Preparing wheel metadata: finished with status 'done'\n",
      "Collecting pysimplevalidate>=0.2.7\n",
      "  Using cached PySimpleValidate-0.2.12.tar.gz (22 kB)\n",
      "  Installing build dependencies: started\n",
      "  Installing build dependencies: finished with status 'done'\n",
      "  Getting requirements to build wheel: started\n",
      "  Getting requirements to build wheel: finished with status 'done'\n",
      "    Preparing wheel metadata: started\n",
      "    Preparing wheel metadata: finished with status 'done'\n",
      "Building wheels for collected packages: pyinputplus, pysimplevalidate, stdiomask\n",
      "  Building wheel for pyinputplus (PEP 517): started\n",
      "  Building wheel for pyinputplus (PEP 517): finished with status 'done'\n",
      "  Created wheel for pyinputplus: filename=PyInputPlus-0.2.12-py3-none-any.whl size=11321 sha256=c79aadfa409f3973cb4e3559fb3b3d8ab185c4deb1de701fadd800b842714c0d\n",
      "  Stored in directory: c:\\users\\junaid\\appdata\\local\\pip\\cache\\wheels\\b4\\6e\\2f\\8a852732646cabec36c3fe8fc060ec5bea1c1be711432c47f7\n",
      "  Building wheel for pysimplevalidate (PEP 517): started\n",
      "  Building wheel for pysimplevalidate (PEP 517): finished with status 'done'\n",
      "  Created wheel for pysimplevalidate: filename=PySimpleValidate-0.2.12-py3-none-any.whl size=16204 sha256=fc32b19173f71c6d4c3077d308c68ea75bb9592bb91aa9c908468e7742d534f4\n",
      "  Stored in directory: c:\\users\\junaid\\appdata\\local\\pip\\cache\\wheels\\b1\\44\\4a\\043a4f4c4512c7cdfb0c2b8408b18b0de5fd45cac57f5dfa02\n",
      "  Building wheel for stdiomask (PEP 517): started\n",
      "  Building wheel for stdiomask (PEP 517): finished with status 'done'\n",
      "  Created wheel for stdiomask: filename=stdiomask-0.0.6-py3-none-any.whl size=3322 sha256=6d1ba43e2aa6f3ab74654e75fd014c9eb869e1226376d93b3278dcbb3a1639dd\n",
      "  Stored in directory: c:\\users\\junaid\\appdata\\local\\pip\\cache\\wheels\\1d\\aa\\47\\f41f117d22c5de82e95d9342f44da578c80610739a2d5ebec4\n",
      "Successfully built pyinputplus pysimplevalidate stdiomask\n",
      "Installing collected packages: stdiomask, pysimplevalidate, pyinputplus\n",
      "Successfully installed pyinputplus-0.2.12 pysimplevalidate-0.2.12 stdiomask-0.0.6\n"
     ]
    }
   ],
   "source": [
    "pip install  pyinputplus "
   ]
  },
  {
   "cell_type": "markdown",
   "id": "34780cd4",
   "metadata": {},
   "source": [
    "### 4. Using PyInputPlus, how do you ensure that the user enters a whole number between 0 and 99?\n"
   ]
  },
  {
   "cell_type": "code",
   "execution_count": 3,
   "id": "f41ec1b1",
   "metadata": {},
   "outputs": [
    {
     "name": "stdout",
     "output_type": "stream",
     "text": [
      ">100\n",
      "Number must be less than 99.\n",
      ">5\n"
     ]
    }
   ],
   "source": [
    "import pyinputplus as pyip\n",
    "a = pyip.inputNum('>', min=0, lessThan=99)"
   ]
  },
  {
   "cell_type": "markdown",
   "id": "72ff183a",
   "metadata": {},
   "source": [
    "### 5. What is transferred to the keyword arguments allowRegexes and blockRegexes?\n"
   ]
  },
  {
   "cell_type": "markdown",
   "id": "43151efd",
   "metadata": {},
   "source": [
    "    we can use allowRegexes and blockRegexes keyword arguments to take list of regular expression strings to determine\n",
    "    what the pyinputplus function will reject or accept valid input."
   ]
  },
  {
   "cell_type": "code",
   "execution_count": 6,
   "id": "7949d79b",
   "metadata": {},
   "outputs": [
    {
     "name": "stdout",
     "output_type": "stream",
     "text": [
      "manish\n",
      "This response is invalid.\n",
      "ashok\n"
     ]
    }
   ],
   "source": [
    "#for example:\n",
    "#import pyinputplus as pyip\n",
    "a = pyip.inputStr(allowRegexes=[r'junaid', 'sudhanshu'],blockRegexes=[r'ashok'])"
   ]
  },
  {
   "cell_type": "markdown",
   "id": "f82c447a",
   "metadata": {},
   "source": [
    "### 6. If a blank input is entered three times, what does inputStr(limit=3) do?\n"
   ]
  },
  {
   "cell_type": "markdown",
   "id": "5ee28ac7",
   "metadata": {},
   "source": [
    "    it will give this error:\n",
    "        pyinputplus.RetryLimitException"
   ]
  },
  {
   "cell_type": "markdown",
   "id": "89d76f04",
   "metadata": {},
   "source": [
    "### 7. If blank input is entered three times, what does inputStr(limit=3, default=&#39;hello&#39;) do?"
   ]
  },
  {
   "cell_type": "markdown",
   "id": "2ee1213f",
   "metadata": {},
   "source": [
    "    Instead of raising RetryLimitException, the inputNum() function simply returns the string 'hello'."
   ]
  }
 ],
 "metadata": {
  "kernelspec": {
   "display_name": "Python 3 (ipykernel)",
   "language": "python",
   "name": "python3"
  },
  "language_info": {
   "codemirror_mode": {
    "name": "ipython",
    "version": 3
   },
   "file_extension": ".py",
   "mimetype": "text/x-python",
   "name": "python",
   "nbconvert_exporter": "python",
   "pygments_lexer": "ipython3",
   "version": "3.9.12"
  }
 },
 "nbformat": 4,
 "nbformat_minor": 5
}
